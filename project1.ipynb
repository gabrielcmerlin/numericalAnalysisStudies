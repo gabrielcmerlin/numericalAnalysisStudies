{
  "nbformat": 4,
  "nbformat_minor": 0,
  "metadata": {
    "colab": {
      "provenance": []
    },
    "kernelspec": {
      "name": "python3",
      "display_name": "Python 3"
    },
    "language_info": {
      "name": "python"
    }
  },
  "cells": [
    {
      "cell_type": "markdown",
      "source": [
        "# Trabalho 1 - Cálculo Numérico\n",
        "\n",
        "Artur De Vlieger Lima (13671574)\n",
        "\n",
        "Gabriel da Costa Merlin (12544420)"
      ],
      "metadata": {
        "id": "vUrM5Y_GYSdV"
      }
    },
    {
      "cell_type": "code",
      "source": [
        "import numpy as np\n",
        "import matplotlib.pyplot as plt\n",
        "import time"
      ],
      "metadata": {
        "id": "9jTXCW8yBEfl"
      },
      "execution_count": 1,
      "outputs": []
    },
    {
      "cell_type": "markdown",
      "source": [
        "## Exercício 1"
      ],
      "metadata": {
        "id": "BPTlVJuLa6nJ"
      }
    },
    {
      "cell_type": "markdown",
      "source": [
        "Ao olhar para esse exercício, a primeira coisa que nos deparamos foram duas funções que utilizavam  a decomposição LU, mas com uma pequena diferença, a func2 apresentava um fator que restringia o número de posições calculadas em L e U, que se dá pela variável v, e isso por algum motivo estava tornando a func2 muito mais rápida sem alterar o resultado, enquanto a func 1 levava 20 segundos, a func2 levava menos de 1."
      ],
      "metadata": {
        "id": "hBXjeYTbf5Hp"
      }
    },
    {
      "cell_type": "code",
      "execution_count": 2,
      "metadata": {
        "colab": {
          "base_uri": "https://localhost:8080/"
        },
        "id": "I-eJv7ITXcVN",
        "outputId": "a3670256-5205-451b-fabb-86541020512f"
      },
      "outputs": [
        {
          "output_type": "stream",
          "name": "stdout",
          "text": [
            "23.613938093185425\n",
            "0.033391714096069336\n",
            "2.8588221205887116e-13\n",
            "2.8588221205887116e-13\n"
          ]
        }
      ],
      "source": [
        "def func1(A):\n",
        "\n",
        "  # Inicialização das matrizes.\n",
        "  n = A.shape[0]\n",
        "  U = A.copy()\n",
        "  L = np.eye(n)\n",
        "\n",
        "  # Iterando sobre os elementos descritos pela decomposição LU.\n",
        "  for j in range(n-1):\n",
        "    for i in range(j+1,n):\n",
        "      L[i,j] = U[i,j] / U[j,j]\n",
        "      U[i,j:n] = U[i,j:n] - L[i,j] * U[j,j:n]\n",
        "\n",
        "  return (L, U)\n",
        "\n",
        "def func2(A, p):\n",
        "\n",
        "  # Inicialização das matrizes.\n",
        "  n = A.shape[0]\n",
        "  U = A.copy( )\n",
        "  L = np.eye(n)\n",
        "\n",
        "  # Iterando sobre os elementos descritos pela decomposição LU, exceto\n",
        "  # em algumas diagonais (que possuem apenas 0).\n",
        "  for j in range(n-1):\n",
        "    v = min(n,j+p+1)\n",
        "    for i in range (j+1,v):\n",
        "      L[i,j] = U[i,j] / U[j,j]\n",
        "      U[i,j:v] = U[i,j:v] - L[i,j] * U[j,j:v]\n",
        "\n",
        "  return(L,U)\n",
        "\n",
        "# Exemplo\n",
        "n = 2000\n",
        "p = 2\n",
        "A = np.zeros((n,n))\n",
        "\n",
        "for i in range(n):\n",
        "  for j in range(max(0,i-p),min(n,i+p+1)):\n",
        "    A[i,j] = np.random.normal()\n",
        "\n",
        "# Cálculo usando a func1.\n",
        "start_time = time.time()\n",
        "(L, U) = func1(A)\n",
        "end_time = time.time()\n",
        "print(end_time - start_time)\n",
        "\n",
        "# Cálculo usando a func2.\n",
        "start_time = time.time()\n",
        "(L_, U_) = func2(A,p)\n",
        "end_time = time.time()\n",
        "print(end_time - start_time)\n",
        "\n",
        "# Printando os \"erros\" de ambos os métodos.\n",
        "print(np.linalg.norm(L @ U - A))\n",
        "print(np.linalg.norm(L_ @ U_ - A))"
      ]
    },
    {
      "cell_type": "markdown",
      "source": [
        "Investigando um pouco mais, descobrimos que essa variável v dependia de outra variável, p, declarada no código de exemplo como 2.\n",
        "\n",
        "O valor desse p traz duas implicações para o código:\n",
        "\n",
        "- Quantas diagonais serão calculadas para L e U em func 2\n",
        "\n",
        "- E mais importante, quantas diagonais em A acima e abaixo da diagonal principal, a matriz que queremos decompor, possuem valores diferentes de 0\n",
        "\n",
        "Abaixo tem um exemplo de como seria um A 4 x 4 com p = 1 (trocamos os valores aleatórios por 1 para facilitar a visualização)"
      ],
      "metadata": {
        "id": "nwQq-lIsgWoc"
      }
    },
    {
      "cell_type": "code",
      "source": [
        "# Função para printar uma matriz.\n",
        "def print_matriz(matriz):\n",
        "    for linha in matriz:\n",
        "        for item in linha:\n",
        "            print(item, end=\"       \")\n",
        "        print()\n",
        "n = 4\n",
        "p = 1\n",
        "A = np.zeros((n,n))\n",
        "\n",
        "# Função dada pelo exercício para gerar o A com uma troca do rand por 1.\n",
        "for i in range(n):\n",
        "  for j in range(max(0,i-p),min(n,i+p+1)):\n",
        "    A[i,j] = 1\n",
        "print_matriz(A)"
      ],
      "metadata": {
        "colab": {
          "base_uri": "https://localhost:8080/"
        },
        "id": "aYRsNSaTf4du",
        "outputId": "e9a3ecb9-5ff4-4f2f-fc2f-bbeb53a9967c"
      },
      "execution_count": 3,
      "outputs": [
        {
          "output_type": "stream",
          "name": "stdout",
          "text": [
            "1.0       1.0       0.0       0.0       \n",
            "1.0       1.0       1.0       0.0       \n",
            "0.0       1.0       1.0       1.0       \n",
            "0.0       0.0       1.0       1.0       \n"
          ]
        }
      ]
    },
    {
      "cell_type": "markdown",
      "source": [
        "Note que apenas nas colunas e linhas um abaixo e um acima de cada elemento da diagonal principal possuem valor, pois setamos p = 1, se fosse 2 seriam 2 colunas e linhas acima, e assim por diante.\n",
        "\n",
        "Com isso, entendemos que a func 2, ao limitar os elementos que percorria com a variável v, estava na verdade não calculando nada para os posições que já eram 0 na matriz original, e por isso conseguiu ser muito mais rápida e manter o resultado, um truque esperto para problemas em que a matriz possui \"triângulos\" de zeros simétricos.\n",
        "\n",
        "Ou seja, enquanto a func 1 se trata de uma LU normal, a func 2 é uma LU otimizada para esse tipo de problema."
      ],
      "metadata": {
        "id": "UBcX9_p0iCT2"
      }
    },
    {
      "cell_type": "markdown",
      "source": [
        "## Exercício 2"
      ],
      "metadata": {
        "id": "WPcnQci4bOcF"
      }
    },
    {
      "cell_type": "code",
      "source": [
        "A = np.array([[4, -2, 1, 0, 0, 0],\n",
        "              [-2, 7, -2, 1, 0, 0],\n",
        "              [1, -2, 7, -2, 1, 0],\n",
        "              [0, 1, -2, 7, -2, 1],\n",
        "              [0, 0, 1, -2, 7, -2],\n",
        "              [0, 0, 0, 1, -2, 4]])\n",
        "b = np.array([-1, 2, 1, 1, -2, -1])\n",
        "n = A.shape[0]"
      ],
      "metadata": {
        "id": "mrcY8nU2bkgj"
      },
      "execution_count": 4,
      "outputs": []
    },
    {
      "cell_type": "markdown",
      "source": [
        "### a)"
      ],
      "metadata": {
        "id": "F5ZG6eWldGsI"
      }
    },
    {
      "cell_type": "markdown",
      "source": [
        "A forma matricial de Gauss Jacobi escreve a expressão\n",
        "\n",
        "$$\n",
        "\\mathbf{X}^{k+1} = \\mathbf{C} \\cdot \\mathbf{X}^{k} + \\mathbf{g}\n",
        "$$\n",
        "\n",
        "como\n",
        "\n",
        "$$\n",
        "\\mathbf{X}^{k+1} = (\\mathbf{I} - \\mathbf{D}^{-1} \\cdot \\mathbf{A}) \\cdot \\mathbf{X}^{k} + \\mathbf{D}^{-1} \\cdot \\mathbf{b}\n",
        "$$\n",
        "\n",
        "portanto\n",
        "\n",
        "$$\n",
        "\\mathbf{C}_{j} = \\mathbf{I} - \\mathbf{D}^{-1} \\cdot \\mathbf{A}\n",
        "$$\n",
        "\n",
        "$$\n",
        "\\mathbf{g}_{j} = \\mathbf{D}^{-1} \\cdot \\mathbf{b}\n",
        "$$"
      ],
      "metadata": {
        "id": "e3DZLtz7d0-J"
      }
    },
    {
      "cell_type": "code",
      "source": [
        "# Calculando Cj e gj.\n",
        "\n",
        "I = np.eye(n)\n",
        "D = np.diag(np.diag(A))\n",
        "D_inv = np.linalg.inv(D)\n",
        "\n",
        "C_j = I - D_inv @ A\n",
        "g_j = D_inv @ b\n",
        "\n",
        "print(C_j)\n",
        "print('\\n')\n",
        "print(g_j)"
      ],
      "metadata": {
        "colab": {
          "base_uri": "https://localhost:8080/"
        },
        "id": "gdbljcXnb-tr",
        "outputId": "0bd666c5-7459-4c29-feb6-166db407b967"
      },
      "execution_count": 5,
      "outputs": [
        {
          "output_type": "stream",
          "name": "stdout",
          "text": [
            "[[ 0.          0.5        -0.25        0.          0.          0.        ]\n",
            " [ 0.28571429  0.          0.28571429 -0.14285714  0.          0.        ]\n",
            " [-0.14285714  0.28571429  0.          0.28571429 -0.14285714  0.        ]\n",
            " [ 0.         -0.14285714  0.28571429  0.          0.28571429 -0.14285714]\n",
            " [ 0.          0.         -0.14285714  0.28571429  0.          0.28571429]\n",
            " [ 0.          0.          0.         -0.25        0.5         0.        ]]\n",
            "\n",
            "\n",
            "[-0.25        0.28571429  0.14285714  0.14285714 -0.28571429 -0.25      ]\n"
          ]
        }
      ]
    },
    {
      "cell_type": "markdown",
      "source": [
        "Já o método de Gauss-Siedel tem sua forma matricial escrita como\n",
        "\n",
        "\n",
        "$$\n",
        "\\mathbf{X}^{k+1} = (- \\mathbf{L}^{-1} \\cdot \\mathbf{R}) \\cdot \\mathbf{X}^{k} + \\mathbf{L}^{-1} \\cdot \\mathbf{b}\n",
        "$$\n",
        "\n",
        "portanto\n",
        "\n",
        "$$\n",
        "\\mathbf{C}_{gs} = - \\mathbf{L}^{-1} \\cdot \\mathbf{R}\n",
        "$$\n",
        "\n",
        "$$\n",
        "\\mathbf{g}_{gs} = \\mathbf{L}^{-1} \\cdot \\mathbf{b}\n",
        "$$"
      ],
      "metadata": {
        "id": "iMZDsf3SjQ1J"
      }
    },
    {
      "cell_type": "code",
      "source": [
        "# Calculando Cgs e ggs\n",
        "\n",
        "L = np.tril(A)\n",
        "R = np.triu(A, 1)\n",
        "L_inv = np.linalg.inv(L)\n",
        "\n",
        "C_gs = - L_inv @ R\n",
        "g_gs = L_inv @ b\n",
        "\n",
        "print(C_gs)\n",
        "print('\\n')\n",
        "print(g_gs)"
      ],
      "metadata": {
        "colab": {
          "base_uri": "https://localhost:8080/"
        },
        "id": "Xy4qeEL4hpFY",
        "outputId": "33b9574f-2b6d-4b40-beef-1b2041edc576"
      },
      "execution_count": 6,
      "outputs": [
        {
          "output_type": "stream",
          "name": "stdout",
          "text": [
            "[[ 0.          0.5        -0.25        0.          0.          0.        ]\n",
            " [ 0.          0.14285714  0.21428571 -0.14285714  0.          0.        ]\n",
            " [ 0.         -0.03061224  0.09693878  0.24489796 -0.14285714  0.        ]\n",
            " [ 0.         -0.02915452 -0.00291545  0.09037901  0.24489796 -0.14285714]\n",
            " [ 0.         -0.00395668 -0.01468138 -0.00916285  0.09037901  0.24489796]\n",
            " [ 0.          0.00531029 -0.00661183 -0.02717618 -0.01603499  0.15816327]]\n",
            "\n",
            "\n",
            "[-0.25        0.21428571  0.23979592  0.18075802 -0.2683257  -0.42935235]\n"
          ]
        }
      ]
    },
    {
      "cell_type": "markdown",
      "source": [
        "### b)"
      ],
      "metadata": {
        "id": "O-5sKfl2la4I"
      }
    },
    {
      "cell_type": "markdown",
      "source": [
        "Para ter certeza que Gauss-Jacobi converge, ele deve passar ou no Critério das Linhas ou no Critério das colunas, caso contrário, não podemos afirmar nada sobre sua convergência.\n",
        "\n",
        "Da mesma forma, se quisermos ter certeza que o Gauss-Siedel converge, ele deve passar no Critério de Sassenfield, caso contrário, não podemos afirmar nada sobre."
      ],
      "metadata": {
        "id": "Q9zbBezF4NIE"
      }
    },
    {
      "cell_type": "code",
      "source": [
        "# Função para calcular o Critério das Linhas.\n",
        "def crit_linhas(A):\n",
        "  maior_valor = 0\n",
        "\n",
        "  for i in range(n):\n",
        "    soma = 0\n",
        "\n",
        "    for j in range(n):\n",
        "\n",
        "      if i != j:\n",
        "        soma += abs(A[i,j])\n",
        "\n",
        "    valor_linha = soma / abs(A[i,i])\n",
        "    maior_valor = max(maior_valor, valor_linha)\n",
        "\n",
        "    if maior_valor < 1:\n",
        "      return True\n",
        "    else:\n",
        "      return False\n",
        "\n",
        "# Função para calcular o Critério de Sassenfield.\n",
        "def crit_sassenfield(A):\n",
        "  betas = []\n",
        "\n",
        "  for i in range(n):\n",
        "    b = 0\n",
        "\n",
        "    for j in range(n):\n",
        "\n",
        "      if (i != j and i==0) or i < j:\n",
        "        b += A[i,j]\n",
        "      elif i != j and i != 0:\n",
        "        b += A[i,j] * betas[j]\n",
        "\n",
        "    b /= A[i,i]\n",
        "    betas.append(b)\n",
        "\n",
        "  if max(betas) < 1:\n",
        "    return True\n",
        "  else:\n",
        "    return False\n",
        "\n",
        "# Calculando os critérios.\n",
        "crit_linhas(A), crit_sassenfield(A)"
      ],
      "metadata": {
        "colab": {
          "base_uri": "https://localhost:8080/"
        },
        "id": "Ed35sowylcUW",
        "outputId": "9fb5a53e-9e3b-4181-d272-7dd5477f970b"
      },
      "execution_count": 7,
      "outputs": [
        {
          "output_type": "execute_result",
          "data": {
            "text/plain": [
              "(True, True)"
            ]
          },
          "metadata": {},
          "execution_count": 7
        }
      ]
    },
    {
      "cell_type": "markdown",
      "source": [
        "Como podemos ver pelo código acima, os Critérios da Linha e de Sassenfield são satisfeitos para os Métodos de Gauss-Jacobi e Gauss-Siedel repectivamente. Logo, ambos os métodos convergem."
      ],
      "metadata": {
        "id": "wiB06fKr5NCj"
      }
    },
    {
      "cell_type": "markdown",
      "source": [
        "### c)"
      ],
      "metadata": {
        "id": "ssR5-Bwx5lZu"
      }
    },
    {
      "cell_type": "code",
      "source": [
        "# Função para calcular o resultado do método de Gauss-Jacobi\n",
        "def gauss_jacobi(A, b, x0, tol):\n",
        "    n = A.shape[0]\n",
        "    D = np.diag(np.diag(A))\n",
        "    C = np.eye(n) - np.linalg.inv(D) @ A\n",
        "    g = np.linalg.inv(D) @ b\n",
        "    errors = []\n",
        "    kmax = 10000\n",
        "    k = 0\n",
        "\n",
        "    erro = np.linalg.norm(b - A @ x0)\n",
        "    errors.append(erro)\n",
        "\n",
        "    while erro > tol and k < kmax:\n",
        "        k += 1\n",
        "        x0 = C @ x0 + g\n",
        "\n",
        "        erro = np.linalg.norm(b - A @ x0)\n",
        "        errors.append(erro)\n",
        "    if k == kmax:\n",
        "        print('Erro: o metodo nao converge.')\n",
        "        return None, None, None\n",
        "\n",
        "    return x0, k, errors\n",
        "\n",
        "# Função para calcular o resultado do método de Gauss-Siedel.\n",
        "def gauss_seidel(A, b, x0, tol):\n",
        "    L = np.tril(A)\n",
        "    R = np.triu(A, 1)\n",
        "    C = -np.linalg.inv(L) @ R\n",
        "    g = np.linalg.inv(L) @ b\n",
        "    errors = []\n",
        "    kmax = 10000\n",
        "    k = 0\n",
        "\n",
        "    erro = np.linalg.norm(b - A @ x0)\n",
        "    errors.append(erro)\n",
        "\n",
        "    while erro > tol and k < kmax:\n",
        "        k += 1\n",
        "        x0 = C @ x0 + g\n",
        "\n",
        "        erro = np.linalg.norm(b - A @ x0)\n",
        "        errors.append(erro)\n",
        "    if k == kmax:\n",
        "        print('Erro: o metodo nao converge.')\n",
        "        return None, None, None\n",
        "\n",
        "    return x0, k, errors\n",
        "\n",
        "# Função para criar o gráfico erroXiteração pedido.\n",
        "def plot_erro(errors1, name1, errors2, name2):\n",
        "    plt.figure(figsize=(10, 6))\n",
        "    plt.plot(range(1, len(errors1) + 1), errors1, marker='o', label=name1)\n",
        "    plt.plot(range(1, len(errors2) + 1), errors2, marker='o', label=name2)\n",
        "    plt.xlabel('Iteração')\n",
        "    plt.ylabel('Erro')\n",
        "    plt.title('Erro por Iteração')\n",
        "    plt.grid(True)\n",
        "    plt.legend()\n",
        "    plt.show()"
      ],
      "metadata": {
        "id": "jCXuFuEp5mfY"
      },
      "execution_count": 8,
      "outputs": []
    },
    {
      "cell_type": "code",
      "source": [
        "# Calculando os métodos e plotando o gráfico.\n",
        "\n",
        "erro = 10 ** -8\n",
        "x0 = [1,0,0,0,0,0]\n",
        "\n",
        "res_gj, n_ite_gj, errors_gj = gauss_jacobi(A, b, x0, erro)\n",
        "res_gs, n_ite_gs, errors_gs = gauss_seidel(A, b, x0, erro)\n",
        "\n",
        "print(res_gj - res_gs, '\\n')\n",
        "\n",
        "plot_erro(errors_gj, 'Gauss Jacobi', errors_gs, 'Gauss Siedel')"
      ],
      "metadata": {
        "colab": {
          "base_uri": "https://localhost:8080/",
          "height": 619
        },
        "id": "z1wskEpH8hEf",
        "outputId": "9c8487f1-fd95-46b9-d0eb-b139f2e3297f"
      },
      "execution_count": 9,
      "outputs": [
        {
          "output_type": "stream",
          "name": "stdout",
          "text": [
            "[ 2.82371579e-09  6.86740775e-10 -2.63486677e-10 -9.26955790e-10\n",
            "  1.93124461e-10 -1.65387259e-10] \n",
            "\n"
          ]
        },
        {
          "output_type": "display_data",
          "data": {
            "text/plain": [
              "<Figure size 1000x600 with 1 Axes>"
            ],
            "image/png": "[encoded data removed]"
          },
          "metadata": {}
        }
      ]
    },
    {
      "cell_type": "markdown",
      "source": [
        "Sabemos, por teoria, que o Método de Gauss Siedel é uma otimização do Gauss Jacobi. Algo que pode ser facilmente interpretado no gráfico acima, já que para um mesmo nível de tolerância Gauss-Siedel precisou de, aproximadamente, 1/5 das itereações. Além disso, podemos ver que em questão de resultado ambos são muito parecidos, já que a diferença entre os resultados finais de cada um é muito pequena, praticamente 0."
      ],
      "metadata": {
        "id": "XmnbXcF9DNkN"
      }
    },
    {
      "cell_type": "markdown",
      "source": [
        "## Exercicio 3"
      ],
      "metadata": {
        "id": "8Sio5c_NkRYi"
      }
    },
    {
      "cell_type": "markdown",
      "source": [
        "### a)"
      ],
      "metadata": {
        "id": "UHm-HbcpkadW"
      }
    },
    {
      "cell_type": "markdown",
      "source": [
        "Primeiramente, quanto a formulação do problema. Para modelarmos ele de modo que seja resolvível por uma função não linear, teremos que igualar as funções p(x) e q(x), e pegar a maior das raízes, assim obteremos o resultado."
      ],
      "metadata": {
        "id": "LzFTAx1akdFf"
      }
    },
    {
      "cell_type": "markdown",
      "source": [
        "$$\n",
        "p(x) = q(x)\n",
        "$$\n",
        "\n",
        "$$\n",
        "\\leftrightarrow\n",
        "$$\n",
        "\n",
        "$$\n",
        "- \\mathbf{x}^{4} +7.7 \\mathbf{x}^{3} - 18 \\mathbf{x}^{2} + 13.6x  = - \\mathbf{x}^{2} +5 x + 0.75\n",
        "$$\n",
        "Assim teremos no final uma função\n",
        "\n",
        "$$\n",
        "f(x) =  - \\mathbf{x}^{4} +7.7 \\mathbf{x}^{3} - 17 \\mathbf{x}^{2} + 8.6x - 0.75 = 0\n",
        "$$\n",
        "\n",
        "Abaixo criamos no código a função f e a função p e o método da bisseção, pedido pelo exercício."
      ],
      "metadata": {
        "id": "3vw8TgehlUSn"
      }
    },
    {
      "cell_type": "code",
      "source": [
        "# Função f(x) = p(x) - q(x).\n",
        "def f(x):\n",
        "  return -x**4 + 7.7 * x**3 - 17*x*x + 8.6 * x -0.75"
      ],
      "metadata": {
        "id": "ORWcFfUs1ghR"
      },
      "execution_count": 10,
      "outputs": []
    },
    {
      "cell_type": "code",
      "source": [
        "def p(x):\n",
        "  return -x**4 + 7.7 * x**3 - 18*x*x + 13.6 * x"
      ],
      "metadata": {
        "id": "YoupVOqn3SEb"
      },
      "execution_count": 11,
      "outputs": []
    },
    {
      "cell_type": "code",
      "source": [
        "# Função para gerar os graficos de erro.\n",
        "def plot_erro2(errors):\n",
        "    plt.figure(figsize=(10, 6))\n",
        "    plt.plot(range(1, len(errors) + 1), errors, marker='o')\n",
        "    plt.xlabel('Iteração')\n",
        "    plt.ylabel('Erro')\n",
        "    plt.title('Erro por Iteração')\n",
        "    plt.grid(True)\n",
        "    plt.show()\n",
        "\n",
        "def bissecao(func, a, b, tol, maxIterations):\n",
        "\n",
        "    # Chutamos o valor central dos nossos chutes iniciais.\n",
        "    chute = (a+b)/2\n",
        "    erro = np.inf\n",
        "    iteration = 0\n",
        "    erros = []\n",
        "\n",
        "    # Continuamos tentanto até conseguir um número cujo erro é menor que a nossa tolerância ou atingirmos o maximo de iterações.\n",
        "    while erro > tol and iteration < maxIterations:\n",
        "\n",
        "        # Substituiremos pelo chute o valor com o mesmo sinal dele para nos mantermos válidos ao teorema do valor médio.\n",
        "        if func(a) * func(chute) <= 0:\n",
        "            b = chute\n",
        "        else:\n",
        "            a = chute\n",
        "\n",
        "        chuteAux = chute\n",
        "        chute = (a+b)/2\n",
        "\n",
        "        # O erro ou a precisão se dará na diferença entre o chute que demos agora e o anterior.\n",
        "        erro = abs(chute-chuteAux)\n",
        "        erros.append(erro)\n",
        "        iteration += 1\n",
        "\n",
        "    plot_erro2(erros)\n",
        "    return chute"
      ],
      "metadata": {
        "id": "yovrYDinkUou"
      },
      "execution_count": 12,
      "outputs": []
    },
    {
      "cell_type": "markdown",
      "source": [
        "Agora, basta escolhermos valores bons para os chutes iniciais e asim nos aproximarmos da raiz desejada. Observando o gráfico dado pelo exercício, escolhemos a como 3 e b como 3.4, pontos próximos da raiz que queremos que representa o ponto de impacto. Podemos ver a evolução do erro no gráfico gerado."
      ],
      "metadata": {
        "id": "mXoWQOXe4rBQ"
      }
    },
    {
      "cell_type": "code",
      "source": [
        "# Descobrindo o x aproximado pelo método.\n",
        "x_aprox = bissecao(f, 3, 3.2, 0.001, 5)\n",
        "print(\"\\nx aproximadh eh \", x_aprox)\n",
        "\n",
        "# Calculando a altura respectiva a ele.\n",
        "y_aprox = p(x_aprox)\n",
        "print(\"A altura aproxima eh \", y_aprox)"
      ],
      "metadata": {
        "colab": {
          "base_uri": "https://localhost:8080/",
          "height": 619
        },
        "id": "yMwyvlUz16z9",
        "outputId": "8c6d5bda-5e8f-4895-8e30-a806a4371630"
      },
      "execution_count": 13,
      "outputs": [
        {
          "output_type": "display_data",
          "data": {
            "text/plain": [
              "<Figure size 1000x600 with 1 Axes>"
            ],
            "image/png": "[encoded data removed]"
          },
          "metadata": {}
        },
        {
          "output_type": "stream",
          "name": "stdout",
          "text": [
            "\n",
            "x aproximadh eh  3.171875\n",
            "A altura aproxima eh  6.542846429347982\n"
          ]
        }
      ]
    },
    {
      "cell_type": "markdown",
      "source": [
        "### b)"
      ],
      "metadata": {
        "id": "-o-gB8f24VKI"
      }
    },
    {
      "cell_type": "markdown",
      "source": [
        "Agora, para resolvermos o problema usando o método de Newton para sistemas, assim ao invés de juntarmos as duas equações  em uma só, teremos uma sistema com duas equações, p e q em função de duas variáveis, assim teremos.\n",
        "\n",
        "$$\n",
        "p(x,y): - \\mathbf{x}^{4} +7.7 \\mathbf{x}^{3} - 18 \\mathbf{x}^{2} + 13.6x  = y\n",
        "$$\n",
        "portanto\n",
        "$$\n",
        "p(x,y): - \\mathbf{x}^{4} +7.7 \\mathbf{x}^{3} - 18 \\mathbf{x}^{2} + 13.6x - y = 0\n",
        "$$\n",
        "e\n",
        "$$\n",
        "q(x,y): - \\mathbf{x}^{2} +5 x + 0.75 = y\n",
        "$$\n",
        "portanto\n",
        "$$\n",
        "q(x,y): - \\mathbf{x}^{2} +5 x + 0.75 - y = 0\n",
        "$$"
      ],
      "metadata": {
        "id": "VGudtaUD5iIY"
      }
    },
    {
      "cell_type": "code",
      "source": [
        "# Função q(x).\n",
        "def q(x):\n",
        "  return -x[0]**2 + 5 * x[0] + 0.75 - x[1]\n",
        "\n",
        "# Função p(x).\n",
        "def p(x):\n",
        "  return -x[0]**4 + 7.7 * x[0]**3 - 18*x[0]*x[0] + 13.6 * x[0] - x[1]\n",
        "\n",
        "# Sistema de equações.\n",
        "def F(x):\n",
        "    return [p(x), q(x)]\n",
        "\n",
        "#Derivada em relação a x de p.\n",
        "def dpx(x):\n",
        "  return -4 *x[0]**3 + 23.1 * x[0]**2 - 36*x[0] + 13.6\n",
        "\n",
        "# Derivada em relação a y de p.\n",
        "def dpy(x):\n",
        "  return -1\n",
        "\n",
        "# Derivada em relação a x de q.\n",
        "def dqx(x):\n",
        "  return -2 * x[0] + 5\n",
        "\n",
        "# Derivada em relação a y de q.\n",
        "def dqy(x):\n",
        "  return -1\n",
        "\n",
        "# Jacobiana das derivadas.\n",
        "def Jac(x):\n",
        "    return [[dpx(x), dpy(x)],\n",
        "            [dqx(x), dqy(x)]]"
      ],
      "metadata": {
        "id": "ZuyAoWCGdisq"
      },
      "execution_count": 14,
      "outputs": []
    },
    {
      "cell_type": "code",
      "source": [
        "def newton_sis(F, Jac, x, tol, kmax = 1000):\n",
        "    erros = []\n",
        "    for k in range(1, kmax):\n",
        "\n",
        "        # Resolvo o sistema com as derivadas para achar o deslocamento do chute.\n",
        "        v = np.linalg.solve(Jac(x), F(x))\n",
        "\n",
        "        # Calculo o novo chute.\n",
        "        x = x - v\n",
        "\n",
        "        # Verifico a norma desse novo chute, quanto mais perto de 0 melhor.\n",
        "        erro =  np.linalg.norm(v)\n",
        "\n",
        "        erros.append(erro)\n",
        "\n",
        "        if erro < tol:\n",
        "            plot_erro2(erros)\n",
        "            return x\n",
        "\n",
        "    plot_erro2(erros)\n",
        "    return np.nan"
      ],
      "metadata": {
        "id": "oUqNz4Qn1beD"
      },
      "execution_count": 15,
      "outputs": []
    },
    {
      "cell_type": "code",
      "source": [
        "x_aprox = newton_sis(F, Jac,[3,3],0.001)\n",
        "print('\\nA altura aproximada de impacto é', x_aprox[1])"
      ],
      "metadata": {
        "colab": {
          "base_uri": "https://localhost:8080/",
          "height": 601
        },
        "id": "5ejDl92GBgF5",
        "outputId": "a244a848-ba99-42f6-fc45-8480d458bd60"
      },
      "execution_count": 16,
      "outputs": [
        {
          "output_type": "display_data",
          "data": {
            "text/plain": [
              "<Figure size 1000x600 with 1 Axes>"
            ],
            "image/png": "[encoded data removed]"
          },
          "metadata": {}
        },
        {
          "output_type": "stream",
          "name": "stdout",
          "text": [
            "\n",
            "A altura aproximada de impacto é 6.547183663998289\n"
          ]
        }
      ]
    },
    {
      "cell_type": "markdown",
      "source": [
        "Como podemos ver, ambos os métodos, com tolerância de 0,001 e máximo de 5 iterações para a biseção e 1000 para o de newton, chegaram a uma resposta, mas o método de newton chegou a resposta muito mais rapidamente, precisando de apenas 3 iterações, enquanto que o método da biseção precisou de todas as 5"
      ],
      "metadata": {
        "id": "po0RLG33USUC"
      }
    },
    {
      "cell_type": "markdown",
      "source": [
        "Como vimos em sala, embora seja muito simples de implementar, o método da biseção avança a aproximação em casas na ordem de log 2, o que torna ele consideravelmente lento quando queremos uma precisão maior, enquanto que o método de newton praticamente dobra o número de casas de precisão a cada iteração, tornando-o muito mais eficaz, como vimos acima."
      ],
      "metadata": {
        "id": "QJbCche2bQ5r"
      }
    }
  ]
}